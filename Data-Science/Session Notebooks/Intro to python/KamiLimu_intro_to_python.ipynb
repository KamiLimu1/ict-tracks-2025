{
  "nbformat": 4,
  "nbformat_minor": 0,
  "metadata": {
    "colab": {
      "provenance": [],
      "collapsed_sections": [
        "L1uEv2F_ilqL",
        "wgF4Bp6UjiSr",
        "Av1tFfuskll7",
        "b_uGrm-1nvol",
        "Er6mSpalzKcf",
        "tZjXyeHcp-35"
      ]
    },
    "kernelspec": {
      "name": "python3",
      "display_name": "Python 3"
    },
    "language_info": {
      "name": "python"
    }
  },
  "cells": [
    {
      "cell_type": "markdown",
      "source": [
        "# Introduction to Python for Data Science\n",
        "\n",
        "**Session Overview**\n",
        "\n",
        "1. Introduction to Python programming  \n",
        "2. Data types, variables, and basic operations  \n",
        "3. Control flow (if/else)  \n",
        "4. Loops (for, while)\n",
        "\n",
        "Each section follows an **I Do/Show (My Demo), You Do (Student Exercise), We Do (Class Practice)** pattern depending on the complexity.  \n",
        "\n",
        "At the end, there are practice exercises to work on independently(This is homework but you do not need to submit, in fact, the challenge will be to practice as assess yourself).\n",
        "\n",
        "---"
      ],
      "metadata": {
        "id": "8sAqtOGQhlPJ"
      }
    },
    {
      "cell_type": "markdown",
      "source": [
        "## 1. Why Python for Data Science?\n",
        "\n",
        "\n",
        "  Python is a high‐level, interpreted language with extensive libraries (NumPy, pandas, Matplotlib) that make it ideal for data analysis, visualization, and machine learning.\n",
        "  \n",
        "  Python powers many data‐driven projects: from analyzing rainfall patterns in Kisumu, to tracking maize yield in Uasin Gishu, to visualizing Nairobi traffic data.\n",
        "\n",
        "- **Reasons:**  \n",
        "  - Readable syntax → faster learning curve  \n",
        "  - Large ecosystem (pandas, scikit‐learn, etc.)  and community.\n",
        "  - Used widely in industry & academia  \n",
        "  - Cross‐platform: works on Windows, macOS, Linux (including Ubuntu on WSL)\n",
        "\n",
        "---"
      ],
      "metadata": {
        "id": "m9ueEZhniTcL"
      }
    },
    {
      "cell_type": "markdown",
      "source": [
        "**House keeping codes**"
      ],
      "metadata": {
        "id": "Xlt4ieTDv2B0"
      }
    },
    {
      "cell_type": "code",
      "source": [
        "# Printing and commenting\n",
        "# -------------------------------------\n",
        "# Comments are created by putthing a hash character(#)\n",
        "print(\"Everlyn is teaching\")"
      ],
      "metadata": {
        "colab": {
          "base_uri": "https://localhost:8080/"
        },
        "id": "k3HB1hBovu3f",
        "outputId": "7802dc3e-c8e7-4d93-a564-60973c59414b"
      },
      "execution_count": null,
      "outputs": [
        {
          "output_type": "stream",
          "name": "stdout",
          "text": [
            "Everlyn is teaching\n"
          ]
        }
      ]
    },
    {
      "cell_type": "code",
      "source": [
        "# Input\n",
        "# -------------------------------------\n",
        "# input() function allows for user input as shown\n",
        "#\n",
        "g = int(input(\"Enter a number: \"))"
      ],
      "metadata": {
        "colab": {
          "base_uri": "https://localhost:8080/"
        },
        "id": "m_bYvThlwA8T",
        "outputId": "82e35d49-ac70-4bb8-9259-5bcf2e836303"
      },
      "execution_count": null,
      "outputs": [
        {
          "name": "stdout",
          "output_type": "stream",
          "text": [
            "Enter a number: 3\n"
          ]
        }
      ]
    },
    {
      "cell_type": "code",
      "source": [
        "import this"
      ],
      "metadata": {
        "colab": {
          "base_uri": "https://localhost:8080/"
        },
        "id": "0aryD7Dl6MYm",
        "outputId": "2ce26d86-8a8c-406f-ce3c-db74e7d24b63"
      },
      "execution_count": null,
      "outputs": [
        {
          "output_type": "stream",
          "name": "stdout",
          "text": [
            "The Zen of Python, by Tim Peters\n",
            "\n",
            "Beautiful is better than ugly.\n",
            "Explicit is better than implicit.\n",
            "Simple is better than complex.\n",
            "Complex is better than complicated.\n",
            "Flat is better than nested.\n",
            "Sparse is better than dense.\n",
            "Readability counts.\n",
            "Special cases aren't special enough to break the rules.\n",
            "Although practicality beats purity.\n",
            "Errors should never pass silently.\n",
            "Unless explicitly silenced.\n",
            "In the face of ambiguity, refuse the temptation to guess.\n",
            "There should be one-- and preferably only one --obvious way to do it.\n",
            "Although that way may not be obvious at first unless you're Dutch.\n",
            "Now is better than never.\n",
            "Although never is often better than *right* now.\n",
            "If the implementation is hard to explain, it's a bad idea.\n",
            "If the implementation is easy to explain, it may be a good idea.\n",
            "Namespaces are one honking great idea -- let's do more of those!\n"
          ]
        }
      ]
    },
    {
      "cell_type": "markdown",
      "source": [
        "## 2. Data Types, Variables, and Basic Operations\n",
        "\n",
        "### 2.1. Python Data Types\n",
        "\n",
        "Python has several built‐in data types. The most common ones you’ll use in data science are:\n",
        "\n",
        "1. **Numeric Types**  \n",
        "   - `int` (integer), e.g., `5`, `2025`  \n",
        "   - `float` (decimal), e.g., `3.14`, `0.001`  \n",
        "\n",
        "2. **Text Type**  \n",
        "   - `str` (string), e.g., `\"Nairobi\"`, `'Hello, Kenya!'`  \n",
        "\n",
        "3. **Boolean**  \n",
        "   - `bool`, either `True` or `False``  \n",
        "\n",
        "4. **Composite data types: Sequence Types**  \n",
        "   - `list`, e.g., `[10, 20, 30]`, `['Nairobi', 'Mombasa']`  \n",
        "   - `tuple`, e.g., `(1, 2, 3)`, `('Kisumu', 'Eldoret')`\n",
        "\n",
        "5. **Composite data types: Mapping Type**  \n",
        "   - `dict` (dictionary), e.g., `{'county': 'Nairobi', 'population': 4,400,000}\n",
        "\n",
        "Often in data analysis, you’ll store numerical arrays (lists), text labels (strings), or key‐value pairs (dictionaries).  \n",
        "\n",
        "---"
      ],
      "metadata": {
        "id": "L1uEv2F_ilqL"
      }
    },
    {
      "cell_type": "code",
      "source": [
        "price=['Risper']"
      ],
      "metadata": {
        "id": "Y4Qarx_QHLAB"
      },
      "execution_count": null,
      "outputs": []
    },
    {
      "cell_type": "markdown",
      "source": [
        "### 2.2. Variables\n",
        "\n",
        "- A **variable** is a name that refers to a value and stores it for easy retrieval.  \n",
        "- You assign with `=`.  \n",
        "- Variable names should be descriptive, use lowercase and underscores (e.g., `maize_yield`, `rainfall_mm`).  \n"
      ],
      "metadata": {
        "id": "wgF4Bp6UjiSr"
      }
    },
    {
      "cell_type": "code",
      "source": [
        "price.append('Manase')"
      ],
      "metadata": {
        "id": "UDmEQnIYHlS8"
      },
      "execution_count": null,
      "outputs": []
    },
    {
      "cell_type": "code",
      "source": [
        "price"
      ],
      "metadata": {
        "colab": {
          "base_uri": "https://localhost:8080/"
        },
        "id": "1dcKfRwjIEfu",
        "outputId": "f13b2c28-5a96-4947-eb09-00ed29a548e9"
      },
      "execution_count": null,
      "outputs": [
        {
          "output_type": "execute_result",
          "data": {
            "text/plain": [
              "['Risper', 'Kathryn']"
            ]
          },
          "metadata": {},
          "execution_count": 8
        }
      ]
    },
    {
      "cell_type": "code",
      "source": [
        "name = 'Risper'\n",
        "Name = 'M.K'"
      ],
      "metadata": {
        "id": "x3uwlHauIbix"
      },
      "execution_count": null,
      "outputs": []
    },
    {
      "cell_type": "code",
      "source": [
        "Me_Kamilimu='Ds'"
      ],
      "metadata": {
        "id": "zS2LycQDI0-n"
      },
      "execution_count": null,
      "outputs": []
    },
    {
      "cell_type": "code",
      "source": [
        "# I Do: Defining variables and checking types\n",
        "# -------------------------------------------\n",
        "\n",
        "# 1. Numeric variables\n",
        "population_nairobi = 4400000      # int: population of Nairobi (approx.)\n",
        "average_rainfall_kisumu = 127.5   # float: avg rainfall in Kisumu (mm/year)"
      ],
      "metadata": {
        "id": "wNISIlTMjxlK"
      },
      "execution_count": null,
      "outputs": []
    },
    {
      "cell_type": "code",
      "source": [
        "# Display variables and their types\n",
        "print(\"Type of population_nairobi:\", type(population_nairobi))\n",
        "print(\"Type of average_rainfall_kisumu:\", type(average_rainfall_kisumu))"
      ],
      "metadata": {
        "colab": {
          "base_uri": "https://localhost:8080/"
        },
        "id": "n82xAy5Kj-UT",
        "outputId": "95585015-4fb4-40a9-bd80-3e43607e19fa"
      },
      "execution_count": null,
      "outputs": [
        {
          "output_type": "stream",
          "name": "stdout",
          "text": [
            "Type of population_nairobi: <class 'int'>\n",
            "Type of average_rainfall_kisumu: <class 'float'>\n"
          ]
        }
      ]
    },
    {
      "cell_type": "code",
      "execution_count": null,
      "metadata": {
        "id": "wRdEo8YXhihS"
      },
      "outputs": [],
      "source": [
        "# 2. String variable\n",
        "city_name = \"Nairobi\""
      ]
    },
    {
      "cell_type": "code",
      "source": [
        "# 3. List and tuple\n",
        "counties = [\"Nairobi\", \"Mombasa\", \"Kisumu\"]\n",
        "port_cities = (\"Mombasa\", \"Malindi\", \"Lamu\")  # tuple"
      ],
      "metadata": {
        "id": "WUlZaW4CkGn6"
      },
      "execution_count": null,
      "outputs": []
    },
    {
      "cell_type": "code",
      "source": [
        "# 4. Dictionary\n",
        "county_population = {\n",
        "    \"Nairobi\": 4400000,\n",
        "    \"Mombasa\": 1200000,\n",
        "    \"Kisumu\": 600000\n",
        "}"
      ],
      "metadata": {
        "id": "Sua0mpYUkLVt"
      },
      "execution_count": null,
      "outputs": []
    },
    {
      "cell_type": "code",
      "source": [
        "# 5. Boolean\n",
        "is_urban = True"
      ],
      "metadata": {
        "id": "0UurKNWhkPZ0"
      },
      "execution_count": null,
      "outputs": []
    },
    {
      "cell_type": "markdown",
      "source": [
        "**You Do: Defining variables and checking types**"
      ],
      "metadata": {
        "id": "XqkqH0AAkflb"
      }
    },
    {
      "cell_type": "code",
      "source": [
        "age = 20\n",
        "print(type(age))"
      ],
      "metadata": {
        "colab": {
          "base_uri": "https://localhost:8080/"
        },
        "id": "GxRmKb8CkYGD",
        "outputId": "90ca4206-828f-4dd4-d919-e480c813fc8c"
      },
      "execution_count": null,
      "outputs": [
        {
          "output_type": "stream",
          "name": "stdout",
          "text": [
            "<class 'int'>\n"
          ]
        }
      ]
    },
    {
      "cell_type": "code",
      "source": [
        "price"
      ],
      "metadata": {
        "colab": {
          "base_uri": "https://localhost:8080/"
        },
        "id": "R-oYdqMbKk7V",
        "outputId": "5fbc0e88-22bb-471a-dab8-04de527e9cbd"
      },
      "execution_count": null,
      "outputs": [
        {
          "output_type": "execute_result",
          "data": {
            "text/plain": [
              "['Risper', 'Kathryn', 'Manase']"
            ]
          },
          "metadata": {},
          "execution_count": 20
        }
      ]
    },
    {
      "cell_type": "markdown",
      "source": [
        "### 2.2. Basic Operations\n",
        "\n",
        "- Numeric operations: +, -, * , /, ** (power), % (modulo), // (floor division)\n",
        "- String concatenation: using + or f-strings\n",
        "- List operations: indexing, slicing, concatenation"
      ],
      "metadata": {
        "id": "Av1tFfuskll7"
      }
    },
    {
      "cell_type": "code",
      "source": [
        "no_talking = ['Abigael','Faith']"
      ],
      "metadata": {
        "id": "D6F988e3LVS0"
      },
      "execution_count": null,
      "outputs": []
    },
    {
      "cell_type": "code",
      "source": [
        "people_in_class = price + no_talking"
      ],
      "metadata": {
        "id": "xu_V55kYLc9m"
      },
      "execution_count": null,
      "outputs": []
    },
    {
      "cell_type": "code",
      "source": [
        "print(people_in_class)"
      ],
      "metadata": {
        "colab": {
          "base_uri": "https://localhost:8080/"
        },
        "id": "EoHXNDF5LkSp",
        "outputId": "057a150d-b81d-415d-f328-ad372554793b"
      },
      "execution_count": null,
      "outputs": [
        {
          "output_type": "stream",
          "name": "stdout",
          "text": [
            "['Risper', 'Kathryn', 'Manase', 'Abigael', 'Faith']\n"
          ]
        }
      ]
    },
    {
      "cell_type": "code",
      "source": [
        "full_name = f\"{price[0]} Audi\"\n",
        "full_name"
      ],
      "metadata": {
        "colab": {
          "base_uri": "https://localhost:8080/",
          "height": 36
        },
        "id": "f0FI6-aJL4mm",
        "outputId": "cdae1d4f-ce53-44fb-d869-ea6c452ab32e"
      },
      "execution_count": null,
      "outputs": [
        {
          "output_type": "execute_result",
          "data": {
            "text/plain": [
              "'Risper Audi'"
            ],
            "application/vnd.google.colaboratory.intrinsic+json": {
              "type": "string"
            }
          },
          "metadata": {},
          "execution_count": 25
        }
      ]
    },
    {
      "cell_type": "code",
      "source": [
        "# I Do: Demonstrate numeric operations\n",
        "# -------------------------------------\n",
        "\n",
        "a = 10\n",
        "b = 3\n",
        "\n",
        "sum_ab = a + b            # 13\n",
        "diff_ab = a - b           # 7\n",
        "prod_ab = a * b           # 30\n",
        "div_ab = a / b            # 3.333...\n",
        "int_div_ab = a // b       # 3\n",
        "mod_ab = a % b            # 1\n",
        "power_ab = a ** b         # 10^3 = 1000\n",
        "\n",
        "print(\"Sum:\", sum_ab)\n",
        "print(\"Difference:\", diff_ab)\n",
        "print(\"Product:\", prod_ab)\n",
        "print(\"Division:\", div_ab)\n",
        "print(\"Integer Division:\", int_div_ab)\n",
        "print(\"Modulo:\", mod_ab)\n",
        "print(\"Power:\", power_ab)"
      ],
      "metadata": {
        "colab": {
          "base_uri": "https://localhost:8080/"
        },
        "id": "r4c_RdAWkYDj",
        "outputId": "2b2d9f4f-d5b3-4317-db24-b653457bccee"
      },
      "execution_count": null,
      "outputs": [
        {
          "output_type": "stream",
          "name": "stdout",
          "text": [
            "Sum: 13\n",
            "Difference: 7\n",
            "Product: 30\n",
            "Division: 3.3333333333333335\n",
            "Integer Division: 3\n",
            "Modulo: 1\n",
            "Power: 1000\n"
          ]
        }
      ]
    },
    {
      "cell_type": "code",
      "source": [
        "first_name = \"Okiya\"\n",
        "last_name = \"Omtatah\"\n",
        "full_name = first_name + \" \" + last_name\n",
        "print(\"Full name (using +):\", full_name)\n",
        "\n",
        "# Using f-strings (Python 3.6+)\n",
        "greeting = f\"Hello, {first_name} {last_name}!\"\n",
        "print(\"Greeting (using f-string):\", greeting)"
      ],
      "metadata": {
        "colab": {
          "base_uri": "https://localhost:8080/"
        },
        "id": "8S2kxcYzlRw0",
        "outputId": "df39c151-12e8-437a-94dc-815e36b7c901"
      },
      "execution_count": null,
      "outputs": [
        {
          "output_type": "stream",
          "name": "stdout",
          "text": [
            "Full name (using +): Okiya Omtatah\n",
            "Greeting (using f-string): Hello, Okiya Omtatah!\n"
          ]
        }
      ]
    },
    {
      "cell_type": "code",
      "source": [
        "# I Do: List indexing, slicing, concatenation\n",
        "# --------------------------------------------\n",
        "\n",
        "rainfall_months = [100, 80, 60, 20, 10, 0, 30, 60, 80, 100, 120, 140]  # mm for each month\n",
        "print(\"Rainfall in January:\", rainfall_months[0])\n",
        "print(\"Rainfall in last quarter (Oct-Dec):\", rainfall_months[9:12])\n",
        "\n",
        "# Concatenate two lists\n",
        "counties_east = [\"Meru\", \"Embu\", \"Kitui\"]\n",
        "counties_west = [\"Kakamega\", \"Bungoma\", \"Busia\"]\n",
        "all_counties = counties_east + counties_west\n",
        "print(\"All counties (E/W):\", all_counties)"
      ],
      "metadata": {
        "colab": {
          "base_uri": "https://localhost:8080/"
        },
        "id": "hvbOxD_7larW",
        "outputId": "28f18a36-eb21-4494-ad4e-789bc7dfa003"
      },
      "execution_count": null,
      "outputs": [
        {
          "output_type": "stream",
          "name": "stdout",
          "text": [
            "Rainfall in January: 100\n",
            "Rainfall in last quarter (Oct-Dec): [100, 120, 140]\n",
            "All counties (E/W): ['Meru', 'Embu', 'Kitui', 'Kakamega', 'Bungoma', 'Busia']\n"
          ]
        }
      ]
    },
    {
      "cell_type": "markdown",
      "source": [
        "**You Do: Student Exercises**\n",
        "\n",
        "- Create two variables: area of Kenya and population in Kenya\n",
        "- Compute and print: `population density`"
      ],
      "metadata": {
        "id": "LlEoLux6luFE"
      }
    },
    {
      "cell_type": "code",
      "source": [
        "price.append('Edwin')"
      ],
      "metadata": {
        "id": "SfypxoVkONRo"
      },
      "execution_count": null,
      "outputs": []
    },
    {
      "cell_type": "code",
      "source": [
        "print(no_talking)\n",
        "no_talking.pop()\n",
        "print(no_talking)"
      ],
      "metadata": {
        "colab": {
          "base_uri": "https://localhost:8080/"
        },
        "id": "Yy9TfT3VObD7",
        "outputId": "8c43d33a-c5b8-4612-e629-beca5d1718e4"
      },
      "execution_count": null,
      "outputs": [
        {
          "output_type": "stream",
          "name": "stdout",
          "text": [
            "['Abigael', 'Faith', 'Edwin']\n",
            "['Abigael', 'Faith']\n"
          ]
        }
      ]
    },
    {
      "cell_type": "code",
      "source": [
        "area = 580367\n",
        "population = 55000000\n",
        "\n",
        "density = population / area\n",
        "print(\"Population density in Kenya is\", round(density, 2), \"people per square kilometer.\")"
      ],
      "metadata": {
        "colab": {
          "base_uri": "https://localhost:8080/"
        },
        "id": "p1sH2UbVOsE3",
        "outputId": "ac81ef4b-0297-4524-bd33-1b064e9de209"
      },
      "execution_count": null,
      "outputs": [
        {
          "output_type": "stream",
          "name": "stdout",
          "text": [
            "Population density in Kenya is 94.77 people per square kilometer.\n"
          ]
        }
      ]
    },
    {
      "cell_type": "code",
      "source": [
        "type(population_in_kenya)"
      ],
      "metadata": {
        "colab": {
          "base_uri": "https://localhost:8080/"
        },
        "id": "3VLiNxT2PBbW",
        "outputId": "6f4b36eb-e2ca-454d-dbc3-58f3be8a9b55"
      },
      "execution_count": null,
      "outputs": [
        {
          "output_type": "execute_result",
          "data": {
            "text/plain": [
              "tuple"
            ]
          },
          "metadata": {},
          "execution_count": 44
        }
      ]
    },
    {
      "cell_type": "markdown",
      "source": [
        "**We do:**\n",
        "\n"
      ],
      "metadata": {
        "id": "5mziB3mpwfNe"
      }
    },
    {
      "cell_type": "code",
      "source": [
        "# We have Ksh 1000, which you invest with a 10% return each year.\n",
        "# After one year, it's 1000 × 1.1 = 1100 shillings, and after two years\n",
        "# it's 1000 × 1.1 × 1.1 = 121.\n",
        "# Now, write code below to calculate how much money\n",
        "# you would end up with after 7 years.\n",
        "# How much is your Ksh. 1000 worth after 15 years?\n",
        "# ----------\n",
        "\n",
        "principal = 1000\n",
        "rate = 1.1\n",
        "\n",
        "after_1 = principal * rate\n",
        "print(after_1)\n",
        "\n",
        "after_7 = principal * (rate**7)\n",
        "print(after_7)"
      ],
      "metadata": {
        "colab": {
          "base_uri": "https://localhost:8080/"
        },
        "id": "QJoOGnwjmZfq",
        "outputId": "e9c0ee6e-55cc-4f91-f019-05c2305678df"
      },
      "execution_count": null,
      "outputs": [
        {
          "output_type": "stream",
          "name": "stdout",
          "text": [
            "1100.0\n",
            "1948.7171000000012\n"
          ]
        }
      ]
    },
    {
      "cell_type": "code",
      "source": [
        "principal = 1000\n",
        "rate = 0.1\n",
        "\n",
        "after_1 = principal + (principal * rate * 1)\n",
        "print(after_1)\n",
        "\n",
        "after_7 = principal + (principal * rate * 7)\n",
        "print(after_7)"
      ],
      "metadata": {
        "colab": {
          "base_uri": "https://localhost:8080/"
        },
        "id": "gPTtyHK4mZc1",
        "outputId": "f083ea38-835d-4e95-e049-bf4c4d8db22d"
      },
      "execution_count": null,
      "outputs": [
        {
          "output_type": "stream",
          "name": "stdout",
          "text": [
            "1100.0\n",
            "1700.0\n"
          ]
        }
      ]
    },
    {
      "cell_type": "code",
      "source": [],
      "metadata": {
        "id": "ICUptQDPmZK0"
      },
      "execution_count": null,
      "outputs": []
    },
    {
      "cell_type": "markdown",
      "source": [
        "## Control Flow (if / elif / else)\n",
        "\n",
        "- Control flow allows your code to make decisions.\n",
        "\n",
        "- Basic form:\n",
        "\n",
        "```\n",
        "# Structure of if\n",
        "if <some condition>:\n",
        "  <specific commands>\n",
        "\n",
        "# Structure of if/else\n",
        "if <some condition>:\n",
        "  <specific commands>\n",
        "else:\n",
        "  <other specific commands>\n",
        "\n",
        "# Structure of if/elif/else\n",
        "if <some condition>:\n",
        "  <specific commands>\n",
        "elif <some other condition>:\n",
        "  <other specific commands>\n",
        "elif <some other condition>:\n",
        "  <other specific commands>\n",
        "else:\n",
        "  <other specific commands>\n",
        "```\n",
        "\n",
        "- Conditions evaluate to True or False.\n",
        "- Common comparisons: ==, !=, <, >, <=, >=.\n",
        "- Combine conditions with and, or, not"
      ],
      "metadata": {
        "id": "RACXhyVDmg-l"
      }
    },
    {
      "cell_type": "code",
      "source": [
        "price"
      ],
      "metadata": {
        "colab": {
          "base_uri": "https://localhost:8080/"
        },
        "id": "UK8Kz8JUWGRK",
        "outputId": "3aedd1bb-d5bb-4214-f19a-4f72d0e3afe0"
      },
      "execution_count": null,
      "outputs": [
        {
          "output_type": "execute_result",
          "data": {
            "text/plain": [
              "['Risper', 'Kathryn', 'Manase', 'Edwin']"
            ]
          },
          "metadata": {},
          "execution_count": 53
        }
      ]
    },
    {
      "cell_type": "code",
      "source": [
        "# Example: Classify rainfall level for a given county\n",
        "county_name = \"Kitale\"\n",
        "rainfall_mm = 900  # average annual rainfall\n",
        "\n",
        "if rainfall_mm > 1000:\n",
        "    level = \"Very High Rainfall\"\n",
        "elif rainfall_mm >= 500:\n",
        "    level = \"Moderate Rainfall\"\n",
        "else:\n",
        "    level = \"Low Rainfall\"\n",
        "\n",
        "print(f\"{county_name} has {level} ({rainfall_mm} mm/year).\")"
      ],
      "metadata": {
        "colab": {
          "base_uri": "https://localhost:8080/"
        },
        "id": "iLV1wDqSmkCm",
        "outputId": "7292bf10-6db6-4296-816b-284713fa38b7"
      },
      "execution_count": null,
      "outputs": [
        {
          "output_type": "stream",
          "name": "stdout",
          "text": [
            "Kitale has Moderate Rainfall (900 mm/year).\n"
          ]
        }
      ]
    },
    {
      "cell_type": "markdown",
      "source": [
        "**You do:**\n",
        "\n",
        "Check if a county is densely populated.\n",
        "\n",
        "```\n",
        "county = \"Nairobi\"\n",
        "area = 696  # km²\n",
        "population = 4400000\n",
        "\n",
        "density = population / area  # persons per km²\n",
        "```"
      ],
      "metadata": {
        "id": "xXG1ez0xnK54"
      }
    },
    {
      "cell_type": "code",
      "source": [
        "country = \"Nairobi\"\n",
        "area = 696  # km²\n",
        "population = 4400000\n",
        "\n",
        "density = population / area  # persons per km²\n",
        "\n",
        "\n",
        "if (density >= 1000):\n",
        "  print(f\"{country} is densely populated\")\n",
        "else:\n",
        "  print(f\"{country} is not densely populated\")"
      ],
      "metadata": {
        "colab": {
          "base_uri": "https://localhost:8080/"
        },
        "id": "28o9D638XRyA",
        "outputId": "29d9f70b-bef1-4626-dc8b-b5b4215f591d"
      },
      "execution_count": null,
      "outputs": [
        {
          "output_type": "stream",
          "name": "stdout",
          "text": [
            "Nairobi is densely populated\n"
          ]
        }
      ]
    },
    {
      "cell_type": "code",
      "source": [
        "county = \"Nairobi\"\n",
        "area = 696  # km²\n",
        "population = 4400000\n",
        "\n",
        "density = population / area  # persons per km²\n",
        "\n",
        "if density > 3000:\n",
        "  print(f\"{county}is highly dense.\")\n",
        "else:\n",
        "  print(f\"{county}is not highly dense.\")"
      ],
      "metadata": {
        "colab": {
          "base_uri": "https://localhost:8080/"
        },
        "id": "uQdTHdskYC54",
        "outputId": "6efe8ea0-c510-4ade-ea9a-13d5b8c754a5"
      },
      "execution_count": null,
      "outputs": [
        {
          "output_type": "stream",
          "name": "stdout",
          "text": [
            "Nairobiis highly dense.\n"
          ]
        }
      ]
    },
    {
      "cell_type": "markdown",
      "source": [
        "**We do:**\n",
        "\n",
        "```\n",
        "county = \"Garissa\"\n",
        "avg_temp_c = 34.0\n",
        "```\n",
        "\n",
        "Check is area is hot"
      ],
      "metadata": {
        "id": "CTTqyU8yne-B"
      }
    },
    {
      "cell_type": "code",
      "source": [],
      "metadata": {
        "id": "gShfy8RxZCDF"
      },
      "execution_count": null,
      "outputs": []
    },
    {
      "cell_type": "code",
      "source": [
        "# Write a program that prompts for two numbers, a and b. If the b is not a 0, print the result a/b;\n",
        "#Otherwise, print division by zero is not allowed.\n",
        "a=int(input(\"Enter the first number:\"))\n",
        "b=int(input(\"Enter the second number:\"))\n",
        "if b !=0:\n",
        "  print(a/b)\n",
        "else:\n",
        "  print(\"Division by zero isn not allowed\")"
      ],
      "metadata": {
        "colab": {
          "base_uri": "https://localhost:8080/"
        },
        "id": "A0vtMoi8nRwo",
        "outputId": "ab60ef1a-5d45-47ed-8c61-fa51b26468bd"
      },
      "execution_count": null,
      "outputs": [
        {
          "output_type": "stream",
          "name": "stdout",
          "text": [
            "Enter the first number:24\n",
            "Enter the second number:5\n",
            "4.8\n"
          ]
        }
      ]
    },
    {
      "cell_type": "code",
      "source": [
        "price.append('Eric')"
      ],
      "metadata": {
        "id": "QjLhEvWQZqrm"
      },
      "execution_count": null,
      "outputs": []
    },
    {
      "cell_type": "code",
      "source": [
        "list(range(0,11,2))"
      ],
      "metadata": {
        "colab": {
          "base_uri": "https://localhost:8080/"
        },
        "id": "1AbyN6iOaM-I",
        "outputId": "97684cb2-fe02-4722-9fa5-0f71eb09de72"
      },
      "execution_count": null,
      "outputs": [
        {
          "output_type": "execute_result",
          "data": {
            "text/plain": [
              "[0, 2, 4, 6, 8, 10]"
            ]
          },
          "metadata": {},
          "execution_count": 75
        }
      ]
    },
    {
      "cell_type": "code",
      "source": [
        "price"
      ],
      "metadata": {
        "colab": {
          "base_uri": "https://localhost:8080/"
        },
        "id": "e45fs3WAbazu",
        "outputId": "40db57e3-c0db-4f1a-d7f6-2bd1b9e8ec24"
      },
      "execution_count": null,
      "outputs": [
        {
          "output_type": "execute_result",
          "data": {
            "text/plain": [
              "['Risper', 'Kathryn', 'Manase', 'Edwin', 'Faith', 'Risper', 'Eric']"
            ]
          },
          "metadata": {},
          "execution_count": 78
        }
      ]
    },
    {
      "cell_type": "markdown",
      "source": [
        "## Loops (for / while)\n",
        "\n",
        "- Loops allow you to repeat code blocks.\n",
        "\n",
        "- `for` loops iterate over sequences (lists, tuples, strings, ranges).\n",
        "\n",
        "```\n",
        "# Structure of for loops\n",
        "for <loop variable> in <iterable>:\n",
        "  <a command to repeat>\n",
        "  <maybe more commands to repeat>\n",
        "```\n",
        "\n",
        "- `while` loops repeat while a condition remains `True`.\n",
        "\n",
        "```\n",
        "# Structure of while loops\n",
        "while <some condition> :\n",
        "    <some commands to repeat>\n",
        "```\n",
        "\n",
        "- Common usage in DS: filtering data."
      ],
      "metadata": {
        "id": "b_uGrm-1nvol"
      }
    },
    {
      "cell_type": "code",
      "source": [
        "# I Do: for Loop over a List\n",
        "# --------------------------------------------\n",
        "for i in price:\n",
        "  print(i)"
      ],
      "metadata": {
        "colab": {
          "base_uri": "https://localhost:8080/"
        },
        "id": "YBYdonFtoDy8",
        "outputId": "ba4a466f-13f0-40e7-cd81-b82ee37a7eb8"
      },
      "execution_count": null,
      "outputs": [
        {
          "output_type": "stream",
          "name": "stdout",
          "text": [
            "Risper\n",
            "Kathryn\n",
            "Manase\n",
            "Edwin\n",
            "Faith\n",
            "Risper\n",
            "Eric\n"
          ]
        }
      ]
    },
    {
      "cell_type": "code",
      "source": [
        "# I Do: for Loop with range()\n",
        "# --------------------------------------------\n",
        "for i in range(6):\n",
        "    print(i)"
      ],
      "metadata": {
        "colab": {
          "base_uri": "https://localhost:8080/"
        },
        "id": "AUgYB965oQoU",
        "outputId": "bfc0f2f0-e3a0-4af9-a534-c7a55ec86aeb"
      },
      "execution_count": null,
      "outputs": [
        {
          "output_type": "stream",
          "name": "stdout",
          "text": [
            "0\n",
            "1\n",
            "2\n",
            "3\n",
            "4\n",
            "5\n"
          ]
        }
      ]
    },
    {
      "cell_type": "code",
      "source": [
        "# I Do: while Loop Example, budgeting example\n",
        "# --------------------------------------------\n",
        "budget = True\n",
        "mooney = 10000\n",
        "\n",
        "while budget:\n",
        "  item = int(input(\"Price of item:\"))\n",
        "  print('Buy item')\n",
        "  mooney -= item\n",
        "  if mooney<=0:\n",
        "    budget=False # Exit"
      ],
      "metadata": {
        "colab": {
          "base_uri": "https://localhost:8080/"
        },
        "id": "MFxAeFLwoYoa",
        "outputId": "3b7a305e-3f45-4eb0-ee62-a295f2eab163"
      },
      "execution_count": null,
      "outputs": [
        {
          "output_type": "stream",
          "name": "stdout",
          "text": [
            "Price of item:200\n",
            "Buy item\n",
            "Price of item:2000\n",
            "Buy item\n",
            "Price of item:5000\n",
            "Buy item\n",
            "Price of item:3000\n",
            "Buy item\n"
          ]
        }
      ]
    },
    {
      "cell_type": "markdown",
      "source": [
        "**You do/We do:**\n",
        "\n",
        "`for` loop:\n",
        "\n",
        "- Create a list of bank balances\n",
        "- Write a for loop to compute:  \n",
        "    - Add salary to each balance\n",
        "    - print out balance after salary increment\n",
        "\n",
        "`while` loop:\n",
        "- Simulate water usage and print tank is empty when water is used up.\n",
        "  - You need total water and usage variable"
      ],
      "metadata": {
        "id": "-bzRGWSYooDW"
      }
    },
    {
      "cell_type": "code",
      "source": [
        "for:\n",
        "while: Manase"
      ],
      "metadata": {
        "id": "XbSIHtTIzJ5n"
      },
      "execution_count": null,
      "outputs": []
    },
    {
      "cell_type": "code",
      "source": [
        "# List of current bank balances\n",
        "bank_balances = [1200, 2500, 4300, 800, 1500]\n",
        "\n",
        "# Define a fixed salary to be added\n",
        "salary = 1000\n",
        "\n",
        "# Add salary to each balance and print the result\n",
        "for i in range(len(bank_balances)):\n",
        "    bank_balances[i] += salary\n",
        "    print(f\"Account {i+1} new balance: {bank_balances[i]}\")"
      ],
      "metadata": {
        "colab": {
          "base_uri": "https://localhost:8080/"
        },
        "id": "umqtkfT2bLOS",
        "outputId": "1b211cd5-c78a-45c5-c313-297c8e0c225f"
      },
      "execution_count": null,
      "outputs": [
        {
          "output_type": "stream",
          "name": "stdout",
          "text": [
            "Account 1 new balance: 2200\n",
            "Account 2 new balance: 3500\n",
            "Account 3 new balance: 5300\n",
            "Account 4 new balance: 1800\n",
            "Account 5 new balance: 2500\n"
          ]
        }
      ]
    },
    {
      "cell_type": "code",
      "source": [
        "balances = [12000,20000,30000,50000]\n",
        "salary =  40000\n",
        "\n",
        "for i in range(4):\n",
        "  balances[i] += salary\n",
        "  print(f\"New {i + 1} balance is: {balances[i]}\")"
      ],
      "metadata": {
        "colab": {
          "base_uri": "https://localhost:8080/"
        },
        "id": "IILVFcnYf6q7",
        "outputId": "63a14f00-b0ab-4ac3-b985-7946c91aff76"
      },
      "execution_count": null,
      "outputs": [
        {
          "output_type": "stream",
          "name": "stdout",
          "text": [
            "New 1 balance is: 52000\n",
            "New 2 balance is: 60000\n",
            "New 3 balance is: 70000\n",
            "New 4 balance is: 90000\n"
          ]
        }
      ]
    },
    {
      "cell_type": "code",
      "source": [
        "bank_balances=[10000,8700,12000,33000,3000]\n",
        "salary=54000\n",
        "new_balances=[]\n",
        "\n",
        "for balance in bank_balances:\n",
        "    new_balance=balance+salary\n",
        "    new_balances.append(new_balance)\n",
        "print(new_balances)\n"
      ],
      "metadata": {
        "colab": {
          "base_uri": "https://localhost:8080/"
        },
        "id": "bipI4mBcgFqB",
        "outputId": "2f57429e-7cc5-49a2-bb56-d3c4d25746f1"
      },
      "execution_count": null,
      "outputs": [
        {
          "output_type": "stream",
          "name": "stdout",
          "text": [
            "[64000, 62700, 66000, 87000, 57000]\n"
          ]
        }
      ]
    },
    {
      "cell_type": "code",
      "source": [
        "bank_balances = [1200, 850, 940, 1500, 670]\n",
        "\n",
        "salary = 500\n",
        "\n",
        "for balance in bank_balances:\n",
        "    updated_balance = balance + salary\n",
        "    print(f\"Updated balance after salary increment: ${updated_balance}\")"
      ],
      "metadata": {
        "colab": {
          "base_uri": "https://localhost:8080/"
        },
        "id": "ALz3vEX8gPAS",
        "outputId": "9c5cb825-9225-4b6c-890d-8c97779753f1"
      },
      "execution_count": null,
      "outputs": [
        {
          "output_type": "stream",
          "name": "stdout",
          "text": [
            "Updated balance after salary increment: $1700\n",
            "Updated balance after salary increment: $1350\n",
            "Updated balance after salary increment: $1440\n",
            "Updated balance after salary increment: $2000\n",
            "Updated balance after salary increment: $1170\n"
          ]
        }
      ]
    },
    {
      "cell_type": "code",
      "source": [
        "bank_balances = [1500, 2500, 3200, 1800, 4000]\n",
        "\n",
        "salary = 1000\n",
        "print(\"Bank balances before salary increment:\", bank_balances)\n",
        "\n",
        "for i in range(len(bank_balances)):\n",
        "  bank_balances[i] += salary\n",
        "  print(f\"Balance after salary increment for account {i+1}: {bank_balances[i]}\")\n",
        "\n",
        "print(\"Bank balances after salary increment:\", bank_balances)"
      ],
      "metadata": {
        "colab": {
          "base_uri": "https://localhost:8080/"
        },
        "id": "XgkF5bAggYgv",
        "outputId": "3b19f7ee-cc12-4454-8b68-096d717545aa"
      },
      "execution_count": null,
      "outputs": [
        {
          "output_type": "stream",
          "name": "stdout",
          "text": [
            "Bank balances before salary increment: [1500, 2500, 3200, 1800, 4000]\n",
            "Balance after salary increment for account 1: 2500\n",
            "Balance after salary increment for account 2: 3500\n",
            "Balance after salary increment for account 3: 4200\n",
            "Balance after salary increment for account 4: 2800\n",
            "Balance after salary increment for account 5: 5000\n",
            "Bank balances after salary increment: [2500, 3500, 4200, 2800, 5000]\n"
          ]
        }
      ]
    },
    {
      "cell_type": "code",
      "source": [
        "total_water = 100\n",
        "\n",
        "while total_water > 0:\n",
        "    usage = int(input(\"Enter the amount of water used (liters): \"))\n",
        "    total_water -= usage\n",
        "\n",
        "    print(f\"Water remaining: {total_water}L\")\n",
        "\n",
        "    if total_water <= 0:\n",
        "        print(\"Tank is empty!\")"
      ],
      "metadata": {
        "colab": {
          "base_uri": "https://localhost:8080/"
        },
        "id": "QxtyRiDtgO67",
        "outputId": "b030392a-e0c2-4174-fa75-10ccd73b1163"
      },
      "execution_count": null,
      "outputs": [
        {
          "output_type": "stream",
          "name": "stdout",
          "text": [
            "Enter the amount of water used (liters): 50\n",
            "Water remaining: 50L\n",
            "Enter the amount of water used (liters): 50\n",
            "Water remaining: 0L\n",
            "Tank is empty!\n"
          ]
        }
      ]
    },
    {
      "cell_type": "code",
      "source": [
        "total_water = 1000 #in litres\n",
        "water_usage = 50 #per cycle\n",
        "while total_water > 0:\n",
        "    total_water -= water_usage\n",
        "    print(f\"Total water left: {total_water} litres\")\n",
        "print(\"tank is empty\")"
      ],
      "metadata": {
        "colab": {
          "base_uri": "https://localhost:8080/"
        },
        "id": "KxiTihFtgjfC",
        "outputId": "33b10f94-1d01-4ce6-9171-8e29ec1fe1a9"
      },
      "execution_count": null,
      "outputs": [
        {
          "output_type": "stream",
          "name": "stdout",
          "text": [
            "Total water left: 950 litres\n",
            "Total water left: 900 litres\n",
            "Total water left: 850 litres\n",
            "Total water left: 800 litres\n",
            "Total water left: 750 litres\n",
            "Total water left: 700 litres\n",
            "Total water left: 650 litres\n",
            "Total water left: 600 litres\n",
            "Total water left: 550 litres\n",
            "Total water left: 500 litres\n",
            "Total water left: 450 litres\n",
            "Total water left: 400 litres\n",
            "Total water left: 350 litres\n",
            "Total water left: 300 litres\n",
            "Total water left: 250 litres\n",
            "Total water left: 200 litres\n",
            "Total water left: 150 litres\n",
            "Total water left: 100 litres\n",
            "Total water left: 50 litres\n",
            "Total water left: 0 litres\n",
            "tank is empty\n"
          ]
        }
      ]
    },
    {
      "cell_type": "code",
      "source": [
        "water = 500\n",
        "use = 100\n",
        "while water > 0:\n",
        "    water -= use\n",
        "    print(water)\n",
        "print(\"Empty\")"
      ],
      "metadata": {
        "colab": {
          "base_uri": "https://localhost:8080/"
        },
        "id": "2rXDwUpDg9LG",
        "outputId": "2846f543-d8ad-43b5-ac6f-b789155b1c9b"
      },
      "execution_count": null,
      "outputs": [
        {
          "output_type": "stream",
          "name": "stdout",
          "text": [
            "400\n",
            "300\n",
            "200\n",
            "100\n",
            "0\n",
            "Empty\n"
          ]
        }
      ]
    },
    {
      "cell_type": "code",
      "source": [
        "total_water = 10000\n",
        "\n",
        "while total_water > 0:\n",
        "    print(f\"Remaining water: {total_water} liters\")\n",
        "    water_usage = int(input(\"Enter water usage (liters): \"))\n",
        "    total_water -= water_usage\n",
        "\n",
        "\n",
        "print(\"Tank is empty!\")"
      ],
      "metadata": {
        "colab": {
          "base_uri": "https://localhost:8080/"
        },
        "id": "yXLVJm2ohAKD",
        "outputId": "23aae614-7698-4e37-9b54-66d1f0ee34ff"
      },
      "execution_count": null,
      "outputs": [
        {
          "output_type": "stream",
          "name": "stdout",
          "text": [
            "Remaining water: 10000 liters\n",
            "Enter water usage (liters): 8000\n",
            "Remaining water: 2000 liters\n",
            "Enter water usage (liters): 7000\n",
            "Tank is empty!\n"
          ]
        }
      ]
    },
    {
      "cell_type": "markdown",
      "source": [
        "# Two Truths and a Lie: Python Edition"
      ],
      "metadata": {
        "id": "Er6mSpalzKcf"
      }
    },
    {
      "cell_type": "markdown",
      "source": [
        "1. “In Python, the expression len([‘Nairobi’, ‘Mombasa’, ‘Kisumu’]) returns 3.”\n",
        "2. “The variable assignment rainfall = ‘150 mm’ makes rainfall a string, not a number.”\n",
        "3. “In Python, you can compute average rainfall by writing avg = sum([180, 170, 160]) / 2.”"
      ],
      "metadata": {
        "id": "GHFM-lyfzO2q"
      }
    },
    {
      "cell_type": "code",
      "source": [],
      "metadata": {
        "id": "NTJ7s6NazZ6O"
      },
      "execution_count": null,
      "outputs": []
    },
    {
      "cell_type": "code",
      "source": [],
      "metadata": {
        "id": "Z367JAuMzHkA"
      },
      "execution_count": null,
      "outputs": []
    },
    {
      "cell_type": "markdown",
      "source": [
        "1. “You can store county‐yield pairs in a dictionary like {'Uasin Gishu': 35.2, 'Nyeri': 32.5}.”\n",
        "2. “The Python expression if population_kenya = 53771300: is valid syntax to check equality.”\n",
        "3. “After running counties.append('Kwale') on counties = ['Nairobi', 'Mombasa'], the list becomes ['Nairobi', 'Mombasa', 'Kwale'].”"
      ],
      "metadata": {
        "id": "G1IbW-Wjzi9d"
      }
    },
    {
      "cell_type": "markdown",
      "source": [
        "# Session Recap & Next Steps\n",
        "\n",
        "Recap:  \n",
        "- Basic Python data types (int, float, str, list, dict, bool)\n",
        "- Variables & naming conventions\n",
        "- Basic arithmetic & string operations\n",
        "- Control flow (if / elif / else) for decision‐making\n",
        "- Loops (for, while) for repetition"
      ],
      "metadata": {
        "id": "EQOwjOHfrI5E"
      }
    },
    {
      "cell_type": "code",
      "source": [],
      "metadata": {
        "id": "FlCsEY5srIlp"
      },
      "execution_count": null,
      "outputs": []
    },
    {
      "cell_type": "markdown",
      "source": [
        "# Independent practice"
      ],
      "metadata": {
        "id": "tZjXyeHcp-35"
      }
    },
    {
      "cell_type": "markdown",
      "source": [
        "## Exercise 1: Simulating Maize Sales\n",
        "\n",
        "- Suppose a farmer in Kitale sells maize at price_per_kg = 50 Ksh. They have daily harvest amounts for a 7‐day period:\n",
        "\n",
        "`daily_harvest = [100, 120, 80, 90, 110, 95, 105]`\n",
        "\n",
        "- Use a while loop to simulate selling day by day. The farmer has a goal of earning at least 5000 Ksh.\n",
        "\n",
        "  \n",
        "\n",
        "1.   Keep track of total_earnings = 0 and the day count.\n",
        "2.   For each day, update total_earnings += daily_harvest[day] * price_per_kg.\n",
        "3.   Stop once total_earnings ≥ 5000 or all days are processed.  \n",
        "4.   Print:\n",
        "    - The day on which the farmer reached or exceeded 5000 Ksh (if at all).\n",
        "    - Total earnings after 7 days (or when target was met)."
      ],
      "metadata": {
        "id": "vSnckhKfqQBC"
      }
    },
    {
      "cell_type": "code",
      "source": [
        "price"
      ],
      "metadata": {
        "id": "BefCHKEojfp4",
        "outputId": "6fa5dbc5-63b9-46e5-828c-47e27abc6992",
        "colab": {
          "base_uri": "https://localhost:8080/"
        }
      },
      "execution_count": null,
      "outputs": [
        {
          "output_type": "execute_result",
          "data": {
            "text/plain": [
              "['Risper', 'Kathryn', 'Manase', 'Edwin', 'Faith', 'Risper', 'Eric']"
            ]
          },
          "metadata": {},
          "execution_count": 94
        }
      ]
    },
    {
      "cell_type": "markdown",
      "source": [
        "## Exercise 2: Tutorial review\n",
        "\n",
        "Go throught this old notebook and ask questions on slack: https://colab.research.google.com/github/deep-learning-indaba/indaba-pracs-2019/blob/master/Python_Intro.ipynb"
      ],
      "metadata": {
        "id": "CKSHcXZYtwww"
      }
    },
    {
      "cell_type": "markdown",
      "source": [
        "## Exercise 3: Simpler challenges"
      ],
      "metadata": {
        "id": "VKrm-YipxTcz"
      }
    },
    {
      "cell_type": "code",
      "source": [
        "# Challenge 1\n",
        "# Many people around the world think about their height in feet and inches\n",
        "# even here in Africa where many countries use the metric system.\n",
        "# Write a program reads the height in metres then converts it to\n",
        "# feet and inches. The program should display the equivalent\n",
        "# height in feet and height."
      ],
      "metadata": {
        "id": "AjbKEVqAqD2N"
      },
      "execution_count": null,
      "outputs": []
    },
    {
      "cell_type": "code",
      "source": [
        "# Challenge 2\n",
        "# Given a certain column of data that has radius, a data scientist would like\n",
        "# to compute the volume the respective cylinder and save the result to a new column.\n",
        "# Thus, write a program that reads the radius of cylinder, along with its height\n",
        "# from the user to calculate the volume in the console."
      ],
      "metadata": {
        "id": "NBAJr1-FxjIP"
      },
      "execution_count": null,
      "outputs": []
    },
    {
      "cell_type": "code",
      "source": [
        "# Challenge 3\n",
        "# While paying for her parking fee of Ksh. 50 , Jane inserts a Note into\n",
        "# the paying machine and gets back her change.\n",
        "# Write a program that reads as input the note greater than Ksh. 200\n",
        "# and returns change in notes of 100 and 50.\n",
        "# Use the knowledge of variables to printing, comments, operators\n",
        "# and input to print the no of denominations given"
      ],
      "metadata": {
        "id": "PN-D8c--xoJW"
      },
      "execution_count": null,
      "outputs": []
    }
  ]
}